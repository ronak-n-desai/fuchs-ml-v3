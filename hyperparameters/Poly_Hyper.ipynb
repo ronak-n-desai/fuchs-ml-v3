{
 "cells": [
  {
   "cell_type": "markdown",
   "metadata": {},
   "source": [
    "# Polynomial Regression Hyperparameter Optimization\n",
    "\n",
    "Purpose of this notebook to find optimal polynomial hyperparameters for a given data set.  Cannot naively use GridSearchCV because of the non-straightforward process of making polynomial features.  Note: this possibly could be done with a pipeline (to investigate after initial version completed)"
   ]
  },
  {
   "cell_type": "code",
   "execution_count": 1,
   "metadata": {},
   "outputs": [],
   "source": [
    "### Import Statements\n",
    "import numpy as np\n",
    "import pandas as pd\n",
    "from sklearn.linear_model import Ridge as cpu_Ridge\n",
    "from sklearn.preprocessing import PolynomialFeatures\n",
    "from sklearn.gaussian_process import GaussianProcessRegressor\n",
    "from sklearn.gaussian_process.kernels import RBF, DotProduct, ConstantKernel, WhiteKernel\n",
    "from sklearn.metrics import mean_squared_error as mse, mean_absolute_percentage_error as mape, r2_score\n",
    "from sklearn.preprocessing import StandardScaler, FunctionTransformer\n",
    "from sklearn.model_selection import train_test_split\n",
    "from sklearn.pipeline import Pipeline, make_pipeline\n",
    "from tqdm.auto import tqdm, trange\n",
    "from sklearn.base import BaseEstimator, TransformerMixin\n",
    "from sklearn.model_selection import GridSearchCV, RandomizedSearchCV, PredefinedSplit\n",
    "import joblib\n",
    "from sklearn.multioutput import MultiOutputRegressor, RegressorChain\n",
    "from scipy.stats import uniform, expon, norm, randint\n",
    "import matplotlib.pyplot as plt\n",
    "import time \n",
    "import warnings\n",
    "from scipy.optimize import minimize\n",
    "from sklearn.preprocessing import MinMaxScaler\n",
    "import time\n",
    "from helpful_functions import make_datasets, make_poly_datasets"
   ]
  },
  {
   "cell_type": "code",
   "execution_count": 2,
   "metadata": {},
   "outputs": [],
   "source": [
    "spectrum = False # True if using full spectrum, False if only using characteristic energies\n",
    "noise_level = 30 # Percentage of noise in dataset to consider for optimization\n",
    "\n",
    "if spectrum:\n",
    "    num_outputs = 25\n",
    "else:\n",
    "    num_outputs = 3"
   ]
  },
  {
   "cell_type": "code",
   "execution_count": 3,
   "metadata": {},
   "outputs": [
    {
     "data": {
      "text/plain": [
       "Index(['Intensity', 'Pulse Duration', 'Target Thickness', 'Spot Size',\n",
       "       'Focal Distance', 'Contrast', 'Max Proton Energy',\n",
       "       'Total Proton Energy', 'Avg Proton Energy', 'Max Exact Energy',\n",
       "       'Total Exact Energy', 'Avg Exact Energy', 'Laser Energy',\n",
       "       'Conversion Efficiency'],\n",
       "      dtype='object')"
      ]
     },
     "execution_count": 3,
     "metadata": {},
     "output_type": "execute_result"
    }
   ],
   "source": [
    "train_df1 = pd.read_hdf('datasets/fuchs_v4-2_seed-2_train_1155231_noise_30_threeEns_campaign1.h5', key = 'df')\n",
    "train_df1.columns"
   ]
  },
  {
   "cell_type": "code",
   "execution_count": 4,
   "metadata": {},
   "outputs": [],
   "source": [
    "# Sample data\n",
    "input_list = ['Intensity', 'Target Thickness', 'Focal Distance', 'Contrast'] # independent variables\n",
    "if spectrum:\n",
    "    output_list = [\"Bin \" + str(i) for i in range(25)]\n",
    "    identifier = 'spectrum'\n",
    "else: \n",
    "    output_list = ['Max Proton Energy', 'Total Proton Energy', 'Avg Proton Energy']\n",
    "    identifier = 'threeEns'\n",
    "\n",
    "#train_df1 = pd.read_hdf(f'datasets/fuchs_v4-2_seed-2_train_1155231_noise_{noise_level}_{identifier}_campaign1.h5', key = 'df')#.sample(n=20000,random_state=1)\n",
    "#train_df2 = pd.read_hdf(f'datasets/fuchs_v4-2_seed-2_train_1274091_noise_{noise_level}_{identifier}_campaign2.h5', key='df')\n",
    "train_df = pd.read_hdf(f'datasets/fuchs_v5_0_seed-2_train_1525000_noise_10_{identifier}_.h5', key='df').fillna(0).sample(frac=1,random_state=42).reset_index(drop=True)\n",
    "train_df.loc[:, output_list] = train_df.loc[:, output_list].replace(0, 1e-2)\n",
    "test_df = pd.read_hdf(f'datasets/fuchs_v5_0_seed-2_test_1000000_noise_0_{identifier}_.h5', key = 'df')\n",
    "test_df.loc[:, output_list] = test_df.loc[:, output_list].replace(0, 1e-2)\n",
    "datype = np.float32\n",
    "\n",
    "# Define X, y as arrays\n",
    "X = np.array(train_df[input_list],dtype=datype)\n",
    "y = np.array(train_df[output_list],dtype=datype)\n",
    "num_pts_tot = X.shape[0]\n",
    "\n",
    "X_test = np.array(test_df[input_list],dtype=datype)\n",
    "y_test = np.array(test_df[output_list],dtype=datype)\n",
    "\n",
    "num_inputs = 4 # Change if not using all input features"
   ]
  },
  {
   "cell_type": "code",
   "execution_count": 5,
   "metadata": {},
   "outputs": [],
   "source": [
    "# Make datasets.  \n",
    "X_train, y_train, X_val, y_val, input_transformer, output_transformer = make_poly_datasets(X, y, random_state=42)\n",
    "y_train_true = output_transformer.inverse_transform(y_train)\n",
    "y_val_true = output_transformer.inverse_transform(y_val)\n",
    "X_scaled = input_transformer.transform(X)\n",
    "y_scaled = output_transformer.transform(y)"
   ]
  },
  {
   "cell_type": "code",
   "execution_count": 6,
   "metadata": {},
   "outputs": [],
   "source": [
    "# Make a pipeline for the model\n",
    "poly = PolynomialFeatures()\n",
    "ridge = cpu_Ridge()\n",
    "\n",
    "pipe = Pipeline(steps=[('poly',poly),('ridge',ridge)])"
   ]
  },
  {
   "cell_type": "code",
   "execution_count": 7,
   "metadata": {},
   "outputs": [],
   "source": [
    "# Define the parameter grid\n",
    "param_grid = {\n",
    "    'poly__degree': np.arange(1, 8, 1),\n",
    "    'ridge__alpha': np.logspace(-3,3,7)\n",
    "}\n",
    "# Define the search\n",
    "split_index = np.concatenate([np.full(X_train.shape[0],-1),np.zeros(X_val.shape[0])]) # -1 for training, 0 for validation\n",
    "predef = PredefinedSplit(test_fold=split_index)\n",
    "grid = GridSearchCV(pipe, param_grid, cv=predef, n_jobs=-1, verbose=3, scoring='neg_mean_squared_error')"
   ]
  },
  {
   "cell_type": "code",
   "execution_count": 8,
   "metadata": {},
   "outputs": [
    {
     "name": "stdout",
     "output_type": "stream",
     "text": [
      "Fitting 1 folds for each of 49 candidates, totalling 49 fits\n"
     ]
    },
    {
     "name": "stdout",
     "output_type": "stream",
     "text": [
      "[CV 1/1] END poly__degree=1, ridge__alpha=0.01;, score=-0.003 total time=   0.3s\n",
      "[CV 1/1] END poly__degree=1, ridge__alpha=0.001;, score=-0.003 total time=   0.4s\n"
     ]
    },
    {
     "name": "stderr",
     "output_type": "stream",
     "text": [
      "/users/PAS2038/felice27/miniconda3/envs/ldiaml/lib/python3.11/site-packages/sklearn/linear_model/_ridge.py:200: LinAlgWarning: Ill-conditioned matrix (rcond=8.05183e-09): result may not be accurate.\n",
      "  return linalg.solve(A, Xy, assume_a=\"pos\", overwrite_a=True).T\n"
     ]
    },
    {
     "name": "stdout",
     "output_type": "stream",
     "text": [
      "[CV 1/1] END .poly__degree=1, ridge__alpha=0.1;, score=-0.003 total time=   0.3s\n",
      "[CV 1/1] END .poly__degree=1, ridge__alpha=1.0;, score=-0.003 total time=   0.3s\n",
      "[CV 1/1] END poly__degree=1, ridge__alpha=10.0;, score=-0.003 total time=   0.3s\n",
      "[CV 1/1] END poly__degree=1, ridge__alpha=100.0;, score=-0.003 total time=   0.3s\n",
      "[CV 1/1] END poly__degree=1, ridge__alpha=1000.0;, score=-0.003 total time=   0.3s\n"
     ]
    },
    {
     "name": "stderr",
     "output_type": "stream",
     "text": [
      "/users/PAS2038/felice27/miniconda3/envs/ldiaml/lib/python3.11/site-packages/sklearn/linear_model/_ridge.py:200: LinAlgWarning: Ill-conditioned matrix (rcond=2.03247e-09): result may not be accurate.\n",
      "  return linalg.solve(A, Xy, assume_a=\"pos\", overwrite_a=True).T\n",
      "/users/PAS2038/felice27/miniconda3/envs/ldiaml/lib/python3.11/site-packages/sklearn/linear_model/_ridge.py:200: LinAlgWarning: Ill-conditioned matrix (rcond=2.03247e-08): result may not be accurate.\n",
      "  return linalg.solve(A, Xy, assume_a=\"pos\", overwrite_a=True).T\n"
     ]
    },
    {
     "name": "stdout",
     "output_type": "stream",
     "text": [
      "[CV 1/1] END poly__degree=2, ridge__alpha=0.001;, score=-0.002 total time=   0.6s\n",
      "[CV 1/1] END poly__degree=2, ridge__alpha=0.01;, score=-0.002 total time=   0.5s\n",
      "[CV 1/1] END .poly__degree=2, ridge__alpha=0.1;, score=-0.002 total time=   3.0s\n",
      "[CV 1/1] END .poly__degree=2, ridge__alpha=1.0;, score=-0.002 total time=   3.6s\n",
      "[CV 1/1] END poly__degree=2, ridge__alpha=10.0;, score=-0.002 total time=   3.6s\n",
      "[CV 1/1] END poly__degree=2, ridge__alpha=1000.0;, score=-0.002 total time=   3.8s\n",
      "[CV 1/1] END poly__degree=2, ridge__alpha=100.0;, score=-0.002 total time=   3.9s\n"
     ]
    },
    {
     "name": "stderr",
     "output_type": "stream",
     "text": [
      "/users/PAS2038/felice27/miniconda3/envs/ldiaml/lib/python3.11/site-packages/sklearn/linear_model/_ridge.py:200: LinAlgWarning: Ill-conditioned matrix (rcond=8.4654e-10): result may not be accurate.\n",
      "  return linalg.solve(A, Xy, assume_a=\"pos\", overwrite_a=True).T\n"
     ]
    },
    {
     "name": "stdout",
     "output_type": "stream",
     "text": [
      "[CV 1/1] END poly__degree=3, ridge__alpha=0.001;, score=-0.002 total time=   5.7s\n",
      "[CV 1/1] END poly__degree=3, ridge__alpha=100.0;, score=-0.002 total time=   5.8s\n",
      "[CV 1/1] END .poly__degree=3, ridge__alpha=1.0;, score=-0.002 total time=   6.1s\n"
     ]
    },
    {
     "name": "stderr",
     "output_type": "stream",
     "text": [
      "/users/PAS2038/felice27/miniconda3/envs/ldiaml/lib/python3.11/site-packages/sklearn/linear_model/_ridge.py:200: LinAlgWarning: Ill-conditioned matrix (rcond=8.46539e-09): result may not be accurate.\n",
      "  return linalg.solve(A, Xy, assume_a=\"pos\", overwrite_a=True).T\n"
     ]
    },
    {
     "name": "stdout",
     "output_type": "stream",
     "text": [
      "[CV 1/1] END .poly__degree=3, ridge__alpha=0.1;, score=-0.002 total time=   7.1s\n",
      "[CV 1/1] END poly__degree=3, ridge__alpha=0.01;, score=-0.002 total time=   7.6s\n",
      "[CV 1/1] END poly__degree=3, ridge__alpha=10.0;, score=-0.002 total time=   8.1s\n"
     ]
    },
    {
     "name": "stderr",
     "output_type": "stream",
     "text": [
      "/users/PAS2038/felice27/miniconda3/envs/ldiaml/lib/python3.11/site-packages/sklearn/linear_model/_ridge.py:200: LinAlgWarning: Ill-conditioned matrix (rcond=4.43699e-08): result may not be accurate.\n",
      "  return linalg.solve(A, Xy, assume_a=\"pos\", overwrite_a=True).T\n"
     ]
    },
    {
     "name": "stdout",
     "output_type": "stream",
     "text": [
      "[CV 1/1] END .poly__degree=4, ridge__alpha=0.1;, score=-0.001 total time=  10.2s\n",
      "[CV 1/1] END poly__degree=4, ridge__alpha=10.0;, score=-0.001 total time=  10.2s\n",
      "[CV 1/1] END poly__degree=4, ridge__alpha=100.0;, score=-0.002 total time=  10.7s\n",
      "[CV 1/1] END poly__degree=3, ridge__alpha=1000.0;, score=-0.002 total time=  11.0s\n",
      "[CV 1/1] END poly__degree=4, ridge__alpha=1000.0;, score=-0.002 total time=  11.3s\n"
     ]
    },
    {
     "name": "stderr",
     "output_type": "stream",
     "text": [
      "/users/PAS2038/felice27/miniconda3/envs/ldiaml/lib/python3.11/site-packages/sklearn/linear_model/_ridge.py:200: LinAlgWarning: Ill-conditioned matrix (rcond=4.43699e-10): result may not be accurate.\n",
      "  return linalg.solve(A, Xy, assume_a=\"pos\", overwrite_a=True).T\n"
     ]
    },
    {
     "name": "stdout",
     "output_type": "stream",
     "text": [
      "[CV 1/1] END poly__degree=4, ridge__alpha=0.001;, score=-0.001 total time=  12.8s\n"
     ]
    },
    {
     "name": "stderr",
     "output_type": "stream",
     "text": [
      "/users/PAS2038/felice27/miniconda3/envs/ldiaml/lib/python3.11/site-packages/sklearn/linear_model/_ridge.py:200: LinAlgWarning: Ill-conditioned matrix (rcond=4.43699e-09): result may not be accurate.\n",
      "  return linalg.solve(A, Xy, assume_a=\"pos\", overwrite_a=True).T\n"
     ]
    },
    {
     "name": "stdout",
     "output_type": "stream",
     "text": [
      "[CV 1/1] END poly__degree=4, ridge__alpha=0.01;, score=-0.001 total time=  14.4s\n",
      "[CV 1/1] END poly__degree=5, ridge__alpha=1000.0;, score=-0.002 total time=  14.0s\n",
      "[CV 1/1] END .poly__degree=4, ridge__alpha=1.0;, score=-0.001 total time=  15.1s\n",
      "[CV 1/1] END poly__degree=5, ridge__alpha=100.0;, score=-0.001 total time=  16.3s\n",
      "[CV 1/1] END .poly__degree=5, ridge__alpha=1.0;, score=-0.001 total time=  16.8s\n",
      "[CV 1/1] END poly__degree=5, ridge__alpha=10.0;, score=-0.001 total time=  17.2s\n",
      "[CV 1/1] END poly__degree=6, ridge__alpha=10.0;, score=-0.001 total time=  18.8s\n"
     ]
    },
    {
     "name": "stderr",
     "output_type": "stream",
     "text": [
      "/users/PAS2038/felice27/miniconda3/envs/ldiaml/lib/python3.11/site-packages/sklearn/linear_model/_ridge.py:200: LinAlgWarning: Ill-conditioned matrix (rcond=3.01335e-08): result may not be accurate.\n",
      "  return linalg.solve(A, Xy, assume_a=\"pos\", overwrite_a=True).T\n"
     ]
    },
    {
     "name": "stdout",
     "output_type": "stream",
     "text": [
      "[CV 1/1] END .poly__degree=6, ridge__alpha=1.0;, score=-0.001 total time=  20.4s\n",
      "[CV 1/1] END poly__degree=6, ridge__alpha=100.0;, score=-0.001 total time=  23.3s\n",
      "[CV 1/1] END poly__degree=6, ridge__alpha=1000.0;, score=-0.002 total time=  24.7s\n"
     ]
    },
    {
     "name": "stderr",
     "output_type": "stream",
     "text": [
      "/users/PAS2038/felice27/miniconda3/envs/ldiaml/lib/python3.11/site-packages/sklearn/linear_model/_ridge.py:200: LinAlgWarning: Ill-conditioned matrix (rcond=1.50662e-08): result may not be accurate.\n",
      "  return linalg.solve(A, Xy, assume_a=\"pos\", overwrite_a=True).T\n"
     ]
    },
    {
     "name": "stdout",
     "output_type": "stream",
     "text": [
      "[CV 1/1] END poly__degree=5, ridge__alpha=0.001;, score=-0.001 total time=  26.8s\n",
      "[CV 1/1] END .poly__degree=7, ridge__alpha=1.0;, score=-0.001 total time=  26.9s\n",
      "[CV 1/1] END poly__degree=7, ridge__alpha=100.0;, score=-0.001 total time=  27.5s\n",
      "[CV 1/1] END poly__degree=5, ridge__alpha=0.01;, score=-0.001 total time=  27.9s\n",
      "[CV 1/1] END poly__degree=7, ridge__alpha=1000.0;, score=-0.001 total time=  28.3s\n",
      "[CV 1/1] END poly__degree=7, ridge__alpha=10.0;, score=-0.001 total time=  28.6s\n",
      "[CV 1/1] END .poly__degree=5, ridge__alpha=0.1;, score=-0.001 total time=  30.1s\n",
      "[CV 1/1] END poly__degree=6, ridge__alpha=0.001;, score=-0.001 total time=  36.0s\n",
      "[CV 1/1] END poly__degree=6, ridge__alpha=0.01;, score=-0.001 total time=  38.2s\n",
      "[CV 1/1] END .poly__degree=6, ridge__alpha=0.1;, score=-0.001 total time=  39.3s\n",
      "[CV 1/1] END poly__degree=7, ridge__alpha=0.01;, score=-0.001 total time=  52.0s\n",
      "[CV 1/1] END poly__degree=7, ridge__alpha=0.001;, score=-0.001 total time=  56.0s\n",
      "[CV 1/1] END .poly__degree=7, ridge__alpha=0.1;, score=-0.001 total time=  56.9s\n"
     ]
    },
    {
     "data": {
      "text/html": [
       "<style>#sk-container-id-1 {color: black;}#sk-container-id-1 pre{padding: 0;}#sk-container-id-1 div.sk-toggleable {background-color: white;}#sk-container-id-1 label.sk-toggleable__label {cursor: pointer;display: block;width: 100%;margin-bottom: 0;padding: 0.3em;box-sizing: border-box;text-align: center;}#sk-container-id-1 label.sk-toggleable__label-arrow:before {content: \"▸\";float: left;margin-right: 0.25em;color: #696969;}#sk-container-id-1 label.sk-toggleable__label-arrow:hover:before {color: black;}#sk-container-id-1 div.sk-estimator:hover label.sk-toggleable__label-arrow:before {color: black;}#sk-container-id-1 div.sk-toggleable__content {max-height: 0;max-width: 0;overflow: hidden;text-align: left;background-color: #f0f8ff;}#sk-container-id-1 div.sk-toggleable__content pre {margin: 0.2em;color: black;border-radius: 0.25em;background-color: #f0f8ff;}#sk-container-id-1 input.sk-toggleable__control:checked~div.sk-toggleable__content {max-height: 200px;max-width: 100%;overflow: auto;}#sk-container-id-1 input.sk-toggleable__control:checked~label.sk-toggleable__label-arrow:before {content: \"▾\";}#sk-container-id-1 div.sk-estimator input.sk-toggleable__control:checked~label.sk-toggleable__label {background-color: #d4ebff;}#sk-container-id-1 div.sk-label input.sk-toggleable__control:checked~label.sk-toggleable__label {background-color: #d4ebff;}#sk-container-id-1 input.sk-hidden--visually {border: 0;clip: rect(1px 1px 1px 1px);clip: rect(1px, 1px, 1px, 1px);height: 1px;margin: -1px;overflow: hidden;padding: 0;position: absolute;width: 1px;}#sk-container-id-1 div.sk-estimator {font-family: monospace;background-color: #f0f8ff;border: 1px dotted black;border-radius: 0.25em;box-sizing: border-box;margin-bottom: 0.5em;}#sk-container-id-1 div.sk-estimator:hover {background-color: #d4ebff;}#sk-container-id-1 div.sk-parallel-item::after {content: \"\";width: 100%;border-bottom: 1px solid gray;flex-grow: 1;}#sk-container-id-1 div.sk-label:hover label.sk-toggleable__label {background-color: #d4ebff;}#sk-container-id-1 div.sk-serial::before {content: \"\";position: absolute;border-left: 1px solid gray;box-sizing: border-box;top: 0;bottom: 0;left: 50%;z-index: 0;}#sk-container-id-1 div.sk-serial {display: flex;flex-direction: column;align-items: center;background-color: white;padding-right: 0.2em;padding-left: 0.2em;position: relative;}#sk-container-id-1 div.sk-item {position: relative;z-index: 1;}#sk-container-id-1 div.sk-parallel {display: flex;align-items: stretch;justify-content: center;background-color: white;position: relative;}#sk-container-id-1 div.sk-item::before, #sk-container-id-1 div.sk-parallel-item::before {content: \"\";position: absolute;border-left: 1px solid gray;box-sizing: border-box;top: 0;bottom: 0;left: 50%;z-index: -1;}#sk-container-id-1 div.sk-parallel-item {display: flex;flex-direction: column;z-index: 1;position: relative;background-color: white;}#sk-container-id-1 div.sk-parallel-item:first-child::after {align-self: flex-end;width: 50%;}#sk-container-id-1 div.sk-parallel-item:last-child::after {align-self: flex-start;width: 50%;}#sk-container-id-1 div.sk-parallel-item:only-child::after {width: 0;}#sk-container-id-1 div.sk-dashed-wrapped {border: 1px dashed gray;margin: 0 0.4em 0.5em 0.4em;box-sizing: border-box;padding-bottom: 0.4em;background-color: white;}#sk-container-id-1 div.sk-label label {font-family: monospace;font-weight: bold;display: inline-block;line-height: 1.2em;}#sk-container-id-1 div.sk-label-container {text-align: center;}#sk-container-id-1 div.sk-container {/* jupyter's `normalize.less` sets `[hidden] { display: none; }` but bootstrap.min.css set `[hidden] { display: none !important; }` so we also need the `!important` here to be able to override the default hidden behavior on the sphinx rendered scikit-learn.org. See: https://github.com/scikit-learn/scikit-learn/issues/21755 */display: inline-block !important;position: relative;}#sk-container-id-1 div.sk-text-repr-fallback {display: none;}</style><div id=\"sk-container-id-1\" class=\"sk-top-container\"><div class=\"sk-text-repr-fallback\"><pre>GridSearchCV(cv=PredefinedSplit(test_fold=array([-1, -1, ...,  0,  0])),\n",
       "             estimator=Pipeline(steps=[(&#x27;poly&#x27;, PolynomialFeatures()),\n",
       "                                       (&#x27;ridge&#x27;, Ridge())]),\n",
       "             n_jobs=-1,\n",
       "             param_grid={&#x27;poly__degree&#x27;: array([1, 2, 3, 4, 5, 6, 7]),\n",
       "                         &#x27;ridge__alpha&#x27;: array([1.e-03, 1.e-02, 1.e-01, 1.e+00, 1.e+01, 1.e+02, 1.e+03])},\n",
       "             scoring=&#x27;neg_mean_squared_error&#x27;, verbose=3)</pre><b>In a Jupyter environment, please rerun this cell to show the HTML representation or trust the notebook. <br />On GitHub, the HTML representation is unable to render, please try loading this page with nbviewer.org.</b></div><div class=\"sk-container\" hidden><div class=\"sk-item sk-dashed-wrapped\"><div class=\"sk-label-container\"><div class=\"sk-label sk-toggleable\"><input class=\"sk-toggleable__control sk-hidden--visually\" id=\"sk-estimator-id-1\" type=\"checkbox\" ><label for=\"sk-estimator-id-1\" class=\"sk-toggleable__label sk-toggleable__label-arrow\">GridSearchCV</label><div class=\"sk-toggleable__content\"><pre>GridSearchCV(cv=PredefinedSplit(test_fold=array([-1, -1, ...,  0,  0])),\n",
       "             estimator=Pipeline(steps=[(&#x27;poly&#x27;, PolynomialFeatures()),\n",
       "                                       (&#x27;ridge&#x27;, Ridge())]),\n",
       "             n_jobs=-1,\n",
       "             param_grid={&#x27;poly__degree&#x27;: array([1, 2, 3, 4, 5, 6, 7]),\n",
       "                         &#x27;ridge__alpha&#x27;: array([1.e-03, 1.e-02, 1.e-01, 1.e+00, 1.e+01, 1.e+02, 1.e+03])},\n",
       "             scoring=&#x27;neg_mean_squared_error&#x27;, verbose=3)</pre></div></div></div><div class=\"sk-parallel\"><div class=\"sk-parallel-item\"><div class=\"sk-item\"><div class=\"sk-label-container\"><div class=\"sk-label sk-toggleable\"><input class=\"sk-toggleable__control sk-hidden--visually\" id=\"sk-estimator-id-2\" type=\"checkbox\" ><label for=\"sk-estimator-id-2\" class=\"sk-toggleable__label sk-toggleable__label-arrow\">estimator: Pipeline</label><div class=\"sk-toggleable__content\"><pre>Pipeline(steps=[(&#x27;poly&#x27;, PolynomialFeatures()), (&#x27;ridge&#x27;, Ridge())])</pre></div></div></div><div class=\"sk-serial\"><div class=\"sk-item\"><div class=\"sk-serial\"><div class=\"sk-item\"><div class=\"sk-estimator sk-toggleable\"><input class=\"sk-toggleable__control sk-hidden--visually\" id=\"sk-estimator-id-3\" type=\"checkbox\" ><label for=\"sk-estimator-id-3\" class=\"sk-toggleable__label sk-toggleable__label-arrow\">PolynomialFeatures</label><div class=\"sk-toggleable__content\"><pre>PolynomialFeatures()</pre></div></div></div><div class=\"sk-item\"><div class=\"sk-estimator sk-toggleable\"><input class=\"sk-toggleable__control sk-hidden--visually\" id=\"sk-estimator-id-4\" type=\"checkbox\" ><label for=\"sk-estimator-id-4\" class=\"sk-toggleable__label sk-toggleable__label-arrow\">Ridge</label><div class=\"sk-toggleable__content\"><pre>Ridge()</pre></div></div></div></div></div></div></div></div></div></div></div></div>"
      ],
      "text/plain": [
       "GridSearchCV(cv=PredefinedSplit(test_fold=array([-1, -1, ...,  0,  0])),\n",
       "             estimator=Pipeline(steps=[('poly', PolynomialFeatures()),\n",
       "                                       ('ridge', Ridge())]),\n",
       "             n_jobs=-1,\n",
       "             param_grid={'poly__degree': array([1, 2, 3, 4, 5, 6, 7]),\n",
       "                         'ridge__alpha': array([1.e-03, 1.e-02, 1.e-01, 1.e+00, 1.e+01, 1.e+02, 1.e+03])},\n",
       "             scoring='neg_mean_squared_error', verbose=3)"
      ]
     },
     "execution_count": 8,
     "metadata": {},
     "output_type": "execute_result"
    }
   ],
   "source": [
    "grid.fit(X_scaled, y_scaled)"
   ]
  },
  {
   "cell_type": "code",
   "execution_count": 9,
   "metadata": {},
   "outputs": [
    {
     "data": {
      "text/plain": [
       "{'poly__degree': 7, 'ridge__alpha': 0.001}"
      ]
     },
     "execution_count": 9,
     "metadata": {},
     "output_type": "execute_result"
    }
   ],
   "source": [
    "# Find the best parameters\n",
    "grid.best_params_"
   ]
  },
  {
   "cell_type": "code",
   "execution_count": 10,
   "metadata": {},
   "outputs": [
    {
     "data": {
      "text/plain": [
       "{'mean_fit_time': array([ 0.35374451,  0.23573589,  0.25132608,  0.2781148 ,  0.24955153,\n",
       "         0.27973723,  0.28906965,  0.50042367,  0.51636934,  2.68968105,\n",
       "         3.33805633,  3.27956438,  3.05473948,  3.51838374,  4.98251963,\n",
       "         7.0733912 ,  6.72105861,  5.57529092,  7.68856931,  5.36860824,\n",
       "        10.2215662 , 12.16871953, 13.27751422,  9.5955627 , 13.98556757,\n",
       "         9.61524034,  9.99576211, 10.89238381, 26.29158378, 27.54195929,\n",
       "        29.81949902, 16.095186  , 16.60161138, 15.50256872, 13.2837379 ,\n",
       "        35.72878599, 37.84492207, 38.95056295, 19.60767961, 18.2025578 ,\n",
       "        22.69950223, 24.03485823, 55.57237959, 51.59804845, 56.45910692,\n",
       "        26.05283952, 28.21461415, 26.81028152, 27.86118627]),\n",
       " 'std_fit_time': array([0., 0., 0., 0., 0., 0., 0., 0., 0., 0., 0., 0., 0., 0., 0., 0., 0.,\n",
       "        0., 0., 0., 0., 0., 0., 0., 0., 0., 0., 0., 0., 0., 0., 0., 0., 0.,\n",
       "        0., 0., 0., 0., 0., 0., 0., 0., 0., 0., 0., 0., 0., 0., 0.]),\n",
       " 'mean_score_time': array([0.01649237, 0.01754189, 0.01838613, 0.01959348, 0.01546764,\n",
       "        0.01829553, 0.01994848, 0.08952093, 0.03167462, 0.31758642,\n",
       "        0.21330881, 0.29906869, 0.80356574, 0.29875827, 0.72086859,\n",
       "        0.50206327, 0.38509083, 0.5073688 , 0.40372658, 0.38627863,\n",
       "        0.79986119, 0.60855079, 1.10271263, 0.61282587, 1.11069322,\n",
       "        0.59081674, 0.69818783, 0.39681268, 0.49706292, 0.38538885,\n",
       "        0.26653171, 0.70073867, 0.59960032, 0.77184129, 0.71429729,\n",
       "        0.30260897, 0.32685494, 0.32469988, 0.77762318, 0.6235745 ,\n",
       "        0.63191414, 0.68438649, 0.44354129, 0.43540096, 0.43445587,\n",
       "        0.80302787, 0.42980599, 0.69173074, 0.47382736]),\n",
       " 'std_score_time': array([0., 0., 0., 0., 0., 0., 0., 0., 0., 0., 0., 0., 0., 0., 0., 0., 0.,\n",
       "        0., 0., 0., 0., 0., 0., 0., 0., 0., 0., 0., 0., 0., 0., 0., 0., 0.,\n",
       "        0., 0., 0., 0., 0., 0., 0., 0., 0., 0., 0., 0., 0., 0., 0.]),\n",
       " 'param_poly__degree': masked_array(data=[1, 1, 1, 1, 1, 1, 1, 2, 2, 2, 2, 2, 2, 2, 3, 3, 3, 3,\n",
       "                    3, 3, 3, 4, 4, 4, 4, 4, 4, 4, 5, 5, 5, 5, 5, 5, 5, 6,\n",
       "                    6, 6, 6, 6, 6, 6, 7, 7, 7, 7, 7, 7, 7],\n",
       "              mask=[False, False, False, False, False, False, False, False,\n",
       "                    False, False, False, False, False, False, False, False,\n",
       "                    False, False, False, False, False, False, False, False,\n",
       "                    False, False, False, False, False, False, False, False,\n",
       "                    False, False, False, False, False, False, False, False,\n",
       "                    False, False, False, False, False, False, False, False,\n",
       "                    False],\n",
       "        fill_value='?',\n",
       "             dtype=object),\n",
       " 'param_ridge__alpha': masked_array(data=[0.001, 0.01, 0.1, 1.0, 10.0, 100.0, 1000.0, 0.001,\n",
       "                    0.01, 0.1, 1.0, 10.0, 100.0, 1000.0, 0.001, 0.01, 0.1,\n",
       "                    1.0, 10.0, 100.0, 1000.0, 0.001, 0.01, 0.1, 1.0, 10.0,\n",
       "                    100.0, 1000.0, 0.001, 0.01, 0.1, 1.0, 10.0, 100.0,\n",
       "                    1000.0, 0.001, 0.01, 0.1, 1.0, 10.0, 100.0, 1000.0,\n",
       "                    0.001, 0.01, 0.1, 1.0, 10.0, 100.0, 1000.0],\n",
       "              mask=[False, False, False, False, False, False, False, False,\n",
       "                    False, False, False, False, False, False, False, False,\n",
       "                    False, False, False, False, False, False, False, False,\n",
       "                    False, False, False, False, False, False, False, False,\n",
       "                    False, False, False, False, False, False, False, False,\n",
       "                    False, False, False, False, False, False, False, False,\n",
       "                    False],\n",
       "        fill_value='?',\n",
       "             dtype=object),\n",
       " 'params': [{'poly__degree': 1, 'ridge__alpha': 0.001},\n",
       "  {'poly__degree': 1, 'ridge__alpha': 0.01},\n",
       "  {'poly__degree': 1, 'ridge__alpha': 0.1},\n",
       "  {'poly__degree': 1, 'ridge__alpha': 1.0},\n",
       "  {'poly__degree': 1, 'ridge__alpha': 10.0},\n",
       "  {'poly__degree': 1, 'ridge__alpha': 100.0},\n",
       "  {'poly__degree': 1, 'ridge__alpha': 1000.0},\n",
       "  {'poly__degree': 2, 'ridge__alpha': 0.001},\n",
       "  {'poly__degree': 2, 'ridge__alpha': 0.01},\n",
       "  {'poly__degree': 2, 'ridge__alpha': 0.1},\n",
       "  {'poly__degree': 2, 'ridge__alpha': 1.0},\n",
       "  {'poly__degree': 2, 'ridge__alpha': 10.0},\n",
       "  {'poly__degree': 2, 'ridge__alpha': 100.0},\n",
       "  {'poly__degree': 2, 'ridge__alpha': 1000.0},\n",
       "  {'poly__degree': 3, 'ridge__alpha': 0.001},\n",
       "  {'poly__degree': 3, 'ridge__alpha': 0.01},\n",
       "  {'poly__degree': 3, 'ridge__alpha': 0.1},\n",
       "  {'poly__degree': 3, 'ridge__alpha': 1.0},\n",
       "  {'poly__degree': 3, 'ridge__alpha': 10.0},\n",
       "  {'poly__degree': 3, 'ridge__alpha': 100.0},\n",
       "  {'poly__degree': 3, 'ridge__alpha': 1000.0},\n",
       "  {'poly__degree': 4, 'ridge__alpha': 0.001},\n",
       "  {'poly__degree': 4, 'ridge__alpha': 0.01},\n",
       "  {'poly__degree': 4, 'ridge__alpha': 0.1},\n",
       "  {'poly__degree': 4, 'ridge__alpha': 1.0},\n",
       "  {'poly__degree': 4, 'ridge__alpha': 10.0},\n",
       "  {'poly__degree': 4, 'ridge__alpha': 100.0},\n",
       "  {'poly__degree': 4, 'ridge__alpha': 1000.0},\n",
       "  {'poly__degree': 5, 'ridge__alpha': 0.001},\n",
       "  {'poly__degree': 5, 'ridge__alpha': 0.01},\n",
       "  {'poly__degree': 5, 'ridge__alpha': 0.1},\n",
       "  {'poly__degree': 5, 'ridge__alpha': 1.0},\n",
       "  {'poly__degree': 5, 'ridge__alpha': 10.0},\n",
       "  {'poly__degree': 5, 'ridge__alpha': 100.0},\n",
       "  {'poly__degree': 5, 'ridge__alpha': 1000.0},\n",
       "  {'poly__degree': 6, 'ridge__alpha': 0.001},\n",
       "  {'poly__degree': 6, 'ridge__alpha': 0.01},\n",
       "  {'poly__degree': 6, 'ridge__alpha': 0.1},\n",
       "  {'poly__degree': 6, 'ridge__alpha': 1.0},\n",
       "  {'poly__degree': 6, 'ridge__alpha': 10.0},\n",
       "  {'poly__degree': 6, 'ridge__alpha': 100.0},\n",
       "  {'poly__degree': 6, 'ridge__alpha': 1000.0},\n",
       "  {'poly__degree': 7, 'ridge__alpha': 0.001},\n",
       "  {'poly__degree': 7, 'ridge__alpha': 0.01},\n",
       "  {'poly__degree': 7, 'ridge__alpha': 0.1},\n",
       "  {'poly__degree': 7, 'ridge__alpha': 1.0},\n",
       "  {'poly__degree': 7, 'ridge__alpha': 10.0},\n",
       "  {'poly__degree': 7, 'ridge__alpha': 100.0},\n",
       "  {'poly__degree': 7, 'ridge__alpha': 1000.0}],\n",
       " 'split0_test_score': array([-0.00282684, -0.00282684, -0.00282684, -0.00282684, -0.00282684,\n",
       "        -0.00282684, -0.0028269 , -0.00226286, -0.00226286, -0.00226286,\n",
       "        -0.00226287, -0.00226285, -0.00226327, -0.00229699, -0.00169893,\n",
       "        -0.00169893, -0.00169892, -0.00169886, -0.00170121, -0.00177514,\n",
       "        -0.00200782, -0.00129723, -0.00129724, -0.00129757, -0.00130804,\n",
       "        -0.00143608, -0.00159838, -0.00176179, -0.00103756, -0.0010379 ,\n",
       "        -0.00105616, -0.00115179, -0.00125662, -0.00144658, -0.0016064 ,\n",
       "        -0.00082315, -0.00087741, -0.00096885, -0.00102574, -0.00114365,\n",
       "        -0.00131066, -0.00150161, -0.0007268 , -0.00078413, -0.00086874,\n",
       "        -0.00094993, -0.00104476, -0.00120907, -0.00141655]),\n",
       " 'mean_test_score': array([-0.00282684, -0.00282684, -0.00282684, -0.00282684, -0.00282684,\n",
       "        -0.00282684, -0.0028269 , -0.00226286, -0.00226286, -0.00226286,\n",
       "        -0.00226287, -0.00226285, -0.00226327, -0.00229699, -0.00169893,\n",
       "        -0.00169893, -0.00169892, -0.00169886, -0.00170121, -0.00177514,\n",
       "        -0.00200782, -0.00129723, -0.00129724, -0.00129757, -0.00130804,\n",
       "        -0.00143608, -0.00159838, -0.00176179, -0.00103756, -0.0010379 ,\n",
       "        -0.00105616, -0.00115179, -0.00125662, -0.00144658, -0.0016064 ,\n",
       "        -0.00082315, -0.00087741, -0.00096885, -0.00102574, -0.00114365,\n",
       "        -0.00131066, -0.00150161, -0.0007268 , -0.00078413, -0.00086874,\n",
       "        -0.00094993, -0.00104476, -0.00120907, -0.00141655]),\n",
       " 'std_test_score': array([0., 0., 0., 0., 0., 0., 0., 0., 0., 0., 0., 0., 0., 0., 0., 0., 0.,\n",
       "        0., 0., 0., 0., 0., 0., 0., 0., 0., 0., 0., 0., 0., 0., 0., 0., 0.,\n",
       "        0., 0., 0., 0., 0., 0., 0., 0., 0., 0., 0., 0., 0., 0., 0.]),\n",
       " 'rank_test_score': array([46, 46, 43, 45, 44, 46, 49, 39, 38, 37, 40, 36, 41, 42, 31, 30, 29,\n",
       "        28, 32, 34, 35, 17, 18, 19, 20, 23, 26, 33,  9, 10, 12, 14, 16, 24,\n",
       "        27,  3,  5,  7,  8, 13, 21, 25,  1,  2,  4,  6, 11, 15, 22],\n",
       "       dtype=int32)}"
      ]
     },
     "execution_count": 10,
     "metadata": {},
     "output_type": "execute_result"
    }
   ],
   "source": [
    "grid.cv_results_"
   ]
  },
  {
   "cell_type": "code",
   "execution_count": 11,
   "metadata": {},
   "outputs": [],
   "source": [
    "best_model = pipe.set_params(**grid.best_params_).fit(X_train, y_train)"
   ]
  },
  {
   "cell_type": "code",
   "execution_count": 12,
   "metadata": {},
   "outputs": [
    {
     "name": "stdout",
     "output_type": "stream",
     "text": [
      "Validation Error: 3057162600.00%\n"
     ]
    }
   ],
   "source": [
    "y_val_pred = output_transformer.inverse_transform(best_model.predict(X_val))\n",
    "val_error = mape(y_val_true, y_val_pred)*100\n",
    "print(f'Validation Error: {val_error:.2f}%')"
   ]
  },
  {
   "cell_type": "code",
   "execution_count": 13,
   "metadata": {},
   "outputs": [
    {
     "name": "stdout",
     "output_type": "stream",
     "text": [
      "Test Error: 601500750.00%\n"
     ]
    }
   ],
   "source": [
    "X_test_scaled = input_transformer.transform(X_test)\n",
    "y_test_pred = output_transformer.inverse_transform(best_model.predict(X_test_scaled))\n",
    "try:\n",
    "    test_error = mape(y_test, y_test_pred)*100\n",
    "    print(f'Test Error: {test_error:.2f}%')\n",
    "except:\n",
    "    print(\"Model failed to generalize.  No test error calculated.\")"
   ]
  },
  {
   "cell_type": "code",
   "execution_count": null,
   "metadata": {},
   "outputs": [],
   "source": []
  }
 ],
 "metadata": {
  "kernelspec": {
   "display_name": "ldiaml",
   "language": "python",
   "name": "python3"
  },
  "language_info": {
   "codemirror_mode": {
    "name": "ipython",
    "version": 3
   },
   "file_extension": ".py",
   "mimetype": "text/x-python",
   "name": "python",
   "nbconvert_exporter": "python",
   "pygments_lexer": "ipython3",
   "version": "3.11.5"
  }
 },
 "nbformat": 4,
 "nbformat_minor": 4
}
