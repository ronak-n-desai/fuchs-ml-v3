{
 "cells": [
  {
   "cell_type": "code",
   "execution_count": 1,
   "metadata": {},
   "outputs": [],
   "source": [
    "import pandas as pd \n",
    "import numpy as np\n",
    "import torch\n",
    "pd.set_option('display.max_rows', 100)\n",
    "import matplotlib.pyplot as plt\n",
    "from matplotlib.lines import Line2D\n",
    "from sklearn.metrics import mean_absolute_percentage_error as mape\n",
    "plt.style.use(plt.style.available[24])\n",
    "plt.rc('font', size=12)          # controls default text sizes\n",
    "plt.rc('axes', titlesize=18)     # fontsize of the axes title\n",
    "plt.rc('axes', labelsize=16)     # fontsize of the x and y labels\n",
    "plt.rc('xtick', labelsize=12)    # fontsize of the xtick labels\n",
    "plt.rc('ytick', labelsize=12)     # fontsize of the ytick labels (also applies to colorbar)\n",
    "plt.rc('legend', fontsize=12)    # legend fontsize\n",
    "plt.rc('figure', titlesize=20)   # fontsize of the figure title\n",
    "plt.rc('lines', linewidth=2)     # line width\n",
    "plt.rc('figure', figsize=(6, 5)) # figure size\n",
    "plt.rc('axes', axisbelow=True)\n",
    "import sys\n",
    "import joblib\n",
    "sys.path.append('../datasets')\n",
    "sys.path.append('..')\n",
    "from fuchs_model import calc_laser_energy\n",
    "from helpful_functions import *"
   ]
  },
  {
   "cell_type": "code",
   "execution_count": 2,
   "metadata": {},
   "outputs": [],
   "source": [
    "num_inputs = 4\n",
    "num_outputs = 3 # Must have 4:3 function for this optimization to work\n",
    "noise_level = 30 # Train on 10% noise\n",
    "datype = np.float32\n",
    "directory = '../models/svgp/'\n",
    "tstamp = '2024-09-24-14-12-43'\n",
    "model_path = f\"{directory}SVGP {tstamp}.pth\"\n",
    "input_scaler_path = f\"{directory}Input Transformer {tstamp}.sav\"\n",
    "output_scaler_path = f\"{directory}Output Transformer {tstamp}.sav\"\n",
    "likelihood_path = f\"{directory}Likelihood {tstamp}.pth\"\n",
    "\n",
    "input_list = ['Intensity', 'Target Thickness', 'Focal Distance', 'Contrast'] # independent variables\n",
    "output_list = ['Max Proton Energy', 'Total Proton Energy', 'Avg Proton Energy']\n",
    "identifier = 'threeEns'\n",
    "train_df = pd.read_hdf(f'../datasets/fuchs_v5_0_seed-2_train_1525000_noise_{noise_level}_threeEns_.h5', key='df').fillna(0)\n",
    "\n",
    "X = np.array(train_df[input_list],dtype=datype)\n",
    "y = np.array(train_df[output_list],dtype=datype)\n",
    "num_pts_tot = X.shape[0]\n",
    "X_train, y_train, X_val, y_val, input_transformer, output_transformer = make_datasets(X, y, random_state=42)\n",
    "\n",
    "device = torch.device(\"cuda\" if torch.cuda.is_available() else \"cpu\")\n",
    "batch_size = 2**10\n",
    "model = GPRegressor(\n",
    "    MultitaskSVGPModel,\n",
    "    module__num_tasks=3,\n",
    "    module__num_latents=8,\n",
    "    module__inducing_points = torch.rand(2000, 4),\n",
    "    \n",
    "    criterion = gpytorch.mlls.VariationalELBO,\n",
    "    criterion__num_data = 100,\n",
    "    \n",
    "    likelihood = gpytorch.likelihoods.MultitaskGaussianLikelihood(num_tasks=3),\n",
    "    \n",
    "    device=torch.device(\"cuda\" if torch.cuda.is_available() else \"cpu\"),\n",
    ")\n",
    "model.initialize()\n",
    "model.module_.load_state_dict(torch.load(model_path, map_location=device))\n",
    "model.likelihood_.load_state_dict(torch.load(likelihood_path, map_location=device))\n",
    "input_transformer = joblib.load(input_scaler_path)\n",
    "output_transformer = joblib.load(output_scaler_path)"
   ]
  },
  {
   "cell_type": "code",
   "execution_count": 3,
   "metadata": {},
   "outputs": [
    {
     "name": "stdout",
     "output_type": "stream",
     "text": [
      "correction factors:  [1.0595335 1.0180328 1.0643877]\n",
      "MAPE with original outputs:  [24.922157 29.392591 24.715229]\n",
      "MAPE with corrected outputs:  [26.68102  30.148605 26.558298]\n"
     ]
    }
   ],
   "source": [
    "# correction_factors = np.mean(output_transformer.inverse_transform(y_train) / output_transformer.inverse_transform(model.predict(X_train)), axis=0)\n",
    "# outputs_true = output_transformer.inverse_transform(y_val)\n",
    "# outputs_pred = output_transformer.inverse_transform(model.predict(X_val))\n",
    "# print(f'correction factors: ', correction_factors)\n",
    "# print(f'MAPE with original outputs: ', mape(outputs_true, outputs_pred, multioutput='raw_values')*100)\n",
    "# print(f'MAPE with corrected outputs: ', mape(outputs_true, outputs_pred * correction_factors, multioutput='raw_values')*100)"
   ]
  },
  {
   "cell_type": "code",
   "execution_count": null,
   "metadata": {},
   "outputs": [],
   "source": [
    "correction_factors = np.array([1.0595335, 1.0180328, 1.0643877]) # Calculated from above code on GPU ~ few minutes (> 1 hour on CPU)"
   ]
  },
  {
   "cell_type": "code",
   "execution_count": null,
   "metadata": {},
   "outputs": [],
   "source": [
    "thickness_min = 0.5 \n",
    "thickness_max = 5 \n",
    "thickness_grid_pts = 46 \n",
    "focal_distance_min = 0\n",
    "focal_distance_max = 30\n",
    "focal_distance_grid_pts = 301\n",
    "thicknesses_range = np.linspace(thickness_min, thickness_max, thickness_grid_pts)\n",
    "focal_distances_range = np.linspace(focal_distance_min, focal_distance_max, focal_distance_grid_pts)\n",
    "Xgrid, Ygrid = np.meshgrid(thicknesses_range, focal_distances_range)\n",
    "thicknesses = Xgrid.flatten()\n",
    "focal_distances = Ygrid.flatten()\n",
    "intensities = np.full_like(thicknesses, 1e19)\n",
    "contrasts = np.full_like(thicknesses, 1e-7)\n",
    "Xgen = np.vstack((intensities, thicknesses, focal_distances, contrasts)).T\n",
    "Xgenscaled = torch.Tensor(input_transformer.transform(Xgen))\n",
    "ygen = output_transformer.inverse_transform(model.predict(Xgenscaled)) * correction_factors"
   ]
  },
  {
   "cell_type": "code",
   "execution_count": null,
   "metadata": {},
   "outputs": [],
   "source": [
    "desired_cutoff = 1\n",
    "betas = [0, 0.75, 1]\n",
    "def obj(x, y, desired_cutoff_energy=1, beta = 0):\n",
    "    cutoff_energy = y[:, 0]\n",
    "    total_energy = y[:, 1]\n",
    "    laser_energy_mev = calc_laser_energy(x[:, 0] * 1e4, 1.5e-6, 40e-15) / (1.609e-13) # Convert to MeV\n",
    "    conversion_efficiency = total_energy / laser_energy_mev * 100\n",
    "    return beta * np.abs(cutoff_energy - desired_cutoff_energy) + (1 - beta) * (-conversion_efficiency)\n",
    "\n",
    "OBJ1 = obj(Xgen, ygen, beta = betas[0], desired_cutoff_energy = desired_cutoff).reshape(focal_distance_grid_pts, thickness_grid_pts)\n",
    "OBJ2 = obj(Xgen, ygen, beta = betas[1], desired_cutoff_energy = desired_cutoff).reshape(focal_distance_grid_pts, thickness_grid_pts)\n",
    "OBJ3 = obj(Xgen, ygen, beta = betas[2], desired_cutoff_energy = desired_cutoff).reshape(focal_distance_grid_pts, thickness_grid_pts)\n",
    "\n",
    "fig, ax = plt.subplots(figsize=(15, 4), ncols = 3)\n",
    "cax1 = ax[0].contourf(Xgrid, Ygrid, OBJ1, cmap='magma', levels=np.linspace(-3.75, 0, 76))\n",
    "cax2 = ax[1].contourf(Xgrid, Ygrid, OBJ2, cmap='magma', levels=np.linspace(-0.35*(desired_cutoff-.5)*2, 0.35*(desired_cutoff-.5)*2, 71))\n",
    "cax3 = ax[2].contourf(Xgrid, Ygrid, OBJ3, cmap='magma', levels=np.linspace(0, 1.5, 76))\n",
    "ax[0].text(0.6, 28, r'$\\beta = $' + betas[0], fontsize=16, color='white')\n",
    "ax[1].text(0.6, 28, r'$\\beta = $' + betas[1], fontsize=16, color='white')\n",
    "ax[2].text(0.6, 28, r'$\\beta = 1$' + betas[2], fontsize=16, color='white')\n",
    "for i in range(3):\n",
    "    ax[i].set_ylim(0, 30)\n",
    "    ax[i].set_xlabel('Target Thickness [μm]')\n",
    "ax[0].set_ylabel('Target Focal Position [μm]')\n",
    "\n",
    "cbar1 = fig.colorbar(cax1)\n",
    "cbar2 = fig.colorbar(cax2)\n",
    "cbar3 = fig.colorbar(cax3)\n",
    "#cbar1.set_label('Objective Function')\n",
    "#cbar2.set_label('Objective Function')\n",
    "cbar3.set_label('Objective Function')\n",
    "fig.subplots_adjust(wspace=0.3)"
   ]
  },
  {
   "cell_type": "code",
   "execution_count": null,
   "metadata": {},
   "outputs": [],
   "source": [
    "np.save('results/Xgrid.npy', Xgrid)\n",
    "np.save('results/Ygrid.npy', Ygrid)\n",
    "np.save(f'results/NN_beta={betas[0]}_cutoff={desired_cutoff}.npy', OBJ1)\n",
    "np.save(f'results/NN_beta={betas[1]}_cutoff={desired_cutoff}.npy', OBJ2)\n",
    "np.save(f'results/NN_beta={betas[2]}_cutoff={desired_cutoff}.npy', OBJ3)"
   ]
  }
 ],
 "metadata": {
  "kernelspec": {
   "display_name": "fuchs-ml [fuchs-ml]",
   "language": "python",
   "name": "conda_fuchs-ml"
  },
  "language_info": {
   "codemirror_mode": {
    "name": "ipython",
    "version": 3
   },
   "file_extension": ".py",
   "mimetype": "text/x-python",
   "name": "python",
   "nbconvert_exporter": "python",
   "pygments_lexer": "ipython3",
   "version": "3.11.5"
  }
 },
 "nbformat": 4,
 "nbformat_minor": 4
}
